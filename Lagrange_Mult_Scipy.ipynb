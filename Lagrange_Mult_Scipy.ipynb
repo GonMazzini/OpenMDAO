{
 "cells": [
  {
   "cell_type": "markdown",
   "metadata": {},
   "source": [
    "## Resume of the notebook:\n",
    "1) Equaility constrained problem using Lagrange multipliers.\n",
    "\n",
    "2) Idem, $f(x)= x^2+y^2+z^2$ , Constrains: $ x+y-5 = 0$ and $x+z+y-15 = 0$\n",
    "\n",
    "3) Using SciPy, Minimize $x_1^2+3x_2^2+4$"
   ]
  },
  {
   "cell_type": "code",
   "execution_count": 2,
   "metadata": {},
   "outputs": [],
   "source": [
    "# import libraries\n",
    "import numpy as np\n",
    "import matplotlib.pyplot as plt\n",
    "import scipy"
   ]
  },
  {
   "cell_type": "markdown",
   "metadata": {},
   "source": [
    "# 1) Optimization: equality constrained problem\n",
    "\n",
    "#### Objective function: $f(x)= 0.25x_1^2+x_2^2$ \n",
    "#### Constrain: $10-x_1-x_2=0$ \n",
    "\n",
    "\n",
    "#### Lagrange Equation: $L(x_1,x_2,\\lambda)= 0.25x_1^2+x_2^2 + \\lambda*(10-x_1-x_2) $"
   ]
  },
  {
   "cell_type": "markdown",
   "metadata": {},
   "source": [
    "### Derivative of Lagrangian with respect to each variable: \n",
    "$\\frac{\\partial L}{\\partial x_1}= 0.5x_1-\\lambda ,  \\frac{\\partial L}{\\partial x_2}= 2x_2-\\lambda , \n",
    "\\frac{\\partial L}{\\partial \\lambda}= -x_1 - x_2$ "
   ]
  },
  {
   "cell_type": "code",
   "execution_count": 3,
   "metadata": {},
   "outputs": [
    {
     "name": "stdout",
     "output_type": "stream",
     "text": [
      "[[ 0.5  0.  -1. ]\n",
      " [ 0.   2.  -1. ]\n",
      " [-1.  -1.   0. ]]\n",
      "[8. 2. 4.]\n"
     ]
    }
   ],
   "source": [
    "A = np.array([[0.5,0,-1], [0,2,-1], [-1,-1,0]])\n",
    "b = np.array([0, 0, -10])\n",
    "print(A)\n",
    "\n",
    "\n",
    "x = np.linalg.inv(A).dot(b)\n",
    "print(x)"
   ]
  },
  {
   "cell_type": "code",
   "execution_count": 4,
   "metadata": {},
   "outputs": [
    {
     "name": "stdout",
     "output_type": "stream",
     "text": [
      "Minimum value: 20.0\n"
     ]
    }
   ],
   "source": [
    "opt_val = lambda x: 0.25*x[0]**2 + x[1]**2\n",
    "print(f'Minimum value: {opt_val(x)}')"
   ]
  },
  {
   "cell_type": "markdown",
   "metadata": {},
   "source": [
    "#### Using a different constrain $-x_2-2=0$"
   ]
  },
  {
   "cell_type": "code",
   "execution_count": 5,
   "metadata": {},
   "outputs": [
    {
     "name": "stdout",
     "output_type": "stream",
     "text": [
      "[[ 0.5  0.  -2. ]\n",
      " [ 0.   2.  -1. ]\n",
      " [ 0.  -1.   0. ]]\n"
     ]
    }
   ],
   "source": [
    "A2 = np.array([[0.5,0,-2], [0,2,-1], [0,-1,0]])\n",
    "b2 = np.array([0, 0, 2])\n",
    "print(A2)\n",
    "\n",
    "x2 = np.linalg.inv(A2).dot(b2)"
   ]
  },
  {
   "cell_type": "code",
   "execution_count": 6,
   "metadata": {},
   "outputs": [
    {
     "name": "stdout",
     "output_type": "stream",
     "text": [
      "Optimum value: 68.0\n"
     ]
    }
   ],
   "source": [
    "print(f'Optimum value: {opt_val(x2)}')"
   ]
  },
  {
   "cell_type": "markdown",
   "metadata": {},
   "source": [
    "#### 2)  Objective function: $f(x)= x^2+y^2+z^2$ \n",
    "#### Constrains: $ x+y-5 = 0$ and $x+z+y-15 = 0$\n",
    "\n",
    "#### Lagrange Equation: $L(x,y,z,\\lambda_1,\\lambda_2)= x^2+y^2+z^2 + \\lambda_1*(x+y-5) + \\lambda_2*(x-z+y-15)  $"
   ]
  },
  {
   "cell_type": "code",
   "execution_count": 7,
   "metadata": {},
   "outputs": [
    {
     "name": "stdout",
     "output_type": "stream",
     "text": [
      "[[ 2  0  0  1  1]\n",
      " [ 0  2  0  1  1]\n",
      " [ 0  0  2  0 -1]\n",
      " [ 1  1  0  0  0]\n",
      " [ 1  1 -1  0  0]]\n"
     ]
    }
   ],
   "source": [
    "A3 = np.array([[2, 0, 0, 1, 1],\n",
    "              [ 0, 2, 0, 1, 1],\n",
    "              [ 0, 0, 2, 0, -1],\n",
    "              [ 1, 1, 0, 0, 0],\n",
    "              [ 1, 1, -1, 0, 0]])\n",
    "b3= np.array([0, 0, 0, 5, 15])\n",
    "\n",
    "print(A3)\n"
   ]
  },
  {
   "cell_type": "code",
   "execution_count": 8,
   "metadata": {},
   "outputs": [
    {
     "name": "stdout",
     "output_type": "stream",
     "text": [
      "[  2.5   2.5 -10.   15.  -20. ]\n"
     ]
    }
   ],
   "source": [
    "x3 = np.linalg.inv(A3).dot(b3)\n",
    "print(x3)"
   ]
  },
  {
   "cell_type": "code",
   "execution_count": 9,
   "metadata": {},
   "outputs": [
    {
     "name": "stdout",
     "output_type": "stream",
     "text": [
      "Optimum value: 112.5\n"
     ]
    }
   ],
   "source": [
    "opt_val2 = lambda x: x[0]**2 + x[1]**2 + x[2]**2\n",
    "print(f'Optimum value: {opt_val2(x3)}')"
   ]
  },
  {
   "cell_type": "markdown",
   "metadata": {},
   "source": [
    "### Using just the first constrain\n",
    "\n",
    "#### Lagrange Equation: $L(x,y,z,\\lambda)= x^2+y^2+z^2 + \\lambda*(x+y-5)$"
   ]
  },
  {
   "cell_type": "code",
   "execution_count": 10,
   "metadata": {},
   "outputs": [
    {
     "name": "stdout",
     "output_type": "stream",
     "text": [
      "[[2 0 0 1]\n",
      " [0 2 0 1]\n",
      " [0 0 2 0]\n",
      " [0 1 1 0]]\n",
      "[8. 2. 4.]\n"
     ]
    }
   ],
   "source": [
    "A4 = np.array([[2, 0, 0, 1],\n",
    "              [ 0, 2, 0, 1],\n",
    "              [ 0, 0, 2, 0],\n",
    "              [ 0, 1, 1, 0]])\n",
    "\n",
    "b4 = np.array([0, 0, 0, 5])\n",
    "print(A4)\n",
    "\n",
    "\n",
    "x4 = np.linalg.inv(A).dot(b)\n",
    "print(x4)"
   ]
  },
  {
   "cell_type": "code",
   "execution_count": 11,
   "metadata": {},
   "outputs": [
    {
     "data": {
      "text/plain": [
       "84.0"
      ]
     },
     "execution_count": 11,
     "metadata": {},
     "output_type": "execute_result"
    }
   ],
   "source": [
    "opt_val2(x4[:3]) # = 84, thus we can improve the minimum."
   ]
  },
  {
   "cell_type": "markdown",
   "metadata": {},
   "source": [
    "### 1.3) Martins and Ning, Chapter 1 Problem 5.4 (using Scipy)\n",
    "#### Minimize $x_1^2+3x_2^2+4$\n",
    "#### by varying $x_1,x_2$\n",
    "#### subject to $x_2 \\ge1$  and $x_1^2+4x_2^2 \\le 4$\n"
   ]
  },
  {
   "cell_type": "code",
   "execution_count": 12,
   "metadata": {},
   "outputs": [
    {
     "data": {
      "image/png": "[encoded data removed]",
      "text/plain": [
       "<Figure size 720x432 with 2 Axes>"
      ]
     },
     "metadata": {
      "needs_background": "light"
     },
     "output_type": "display_data"
    }
   ],
   "source": [
    "x_arr = np.linspace(-10., 10., 100)\n",
    "y_arr = np.linspace(-10., 10., 100)\n",
    "x, y = np.meshgrid(x_arr, y_arr)\n",
    "# define z=f(x,y)\n",
    "z_func = lambda t : t[0]**2+3*t[1]**2+4\n",
    "z = z_func((x,y))\n",
    "\n",
    "\n",
    "figure , axe =plt.subplots(1,1, figsize=(10,6))\n",
    "cont_map = axe.contourf(x, y, z, cmap='magma')\n",
    "figure.colorbar(cont_map)\n",
    "plt.xlabel('$x_1$', fontsize=16)\n",
    "plt.ylabel('$x_2$', fontsize=16)\n",
    "plt.show()"
   ]
  },
  {
   "cell_type": "markdown",
   "metadata": {},
   "source": [
    "### b) As can be seen, the unconstrained optimum of the function is $(x_1,x_2)=(0,0)$, as any other values will maximize the output because $x_1$ and $x_2$ are squared."
   ]
  },
  {
   "cell_type": "markdown",
   "metadata": {},
   "source": [
    "Lagrangian equation:  $x_1^2+3x_2^2+4 + \\lambda *(x_2-1) + \\mu *(x_1^2+4x_2^2-4)$\n"
   ]
  },
  {
   "cell_type": "markdown",
   "metadata": {},
   "source": [
    "### Solve for unconsontrained"
   ]
  },
  {
   "cell_type": "code",
   "execution_count": 13,
   "metadata": {},
   "outputs": [
    {
     "data": {
      "text/plain": [
       "array([7.80536857e-10, 3.54789545e-10])"
      ]
     },
     "execution_count": 13,
     "metadata": {},
     "output_type": "execute_result"
    }
   ],
   "source": [
    "OF = lambda t : t[0]**2+3*t[1]**2+4\n",
    "\n",
    "from scipy.optimize import minimize\n",
    "\n",
    "f = minimize(OF, [1,1], method='SLSQP')\n",
    "\n",
    "f.x # (0,0) as expected."
   ]
  },
  {
   "cell_type": "markdown",
   "metadata": {},
   "source": [
    "### Solve with constains using scipy"
   ]
  },
  {
   "cell_type": "code",
   "execution_count": 119,
   "metadata": {},
   "outputs": [
    {
     "name": "stdout",
     "output_type": "stream",
     "text": [
      "  NIT    FC           OBJFUN            GNORM\n",
      "    1     4     7.000000E+00     5.960464E-08\n",
      "    2     8     7.000000E+00     1.000000E+00\n",
      "    3    10     7.000000E+00     6.000000E+00\n",
      "Optimization terminated successfully    (Exit mode 0)\n",
      "            Current function value: 7.000000000000019\n",
      "            Iterations: 3\n",
      "            Function evaluations: 10\n",
      "            Gradient evaluations: 3\n"
     ]
    }
   ],
   "source": [
    "from scipy.optimize import NonlinearConstraint\n",
    "\n",
    "con1= lambda x : x[1]-1\n",
    "nlc1=NonlinearConstraint(con1, 0, np.inf)\n",
    "con2= lambda x : x[0]**2+4*x[1]**2-4\n",
    "nlc2=NonlinearConstraint(con2, -np.inf, 0)\n",
    "\n",
    "#bounds=((-np.inf,np.inf),(-np.inf,np.inf))\n",
    "\n",
    "x0,x1=0,0\n",
    "f=minimize(OF,\n",
    "           [x0,x1],\n",
    "#         bounds=bnds,\n",
    "           constraints=[nlc1,nlc2],\n",
    "           options={'maxiter': 100, 'ftol': 1e-06, 'iprint': 2,'disp': True})\n",
    "           "
   ]
  },
  {
   "cell_type": "code",
   "execution_count": 120,
   "metadata": {},
   "outputs": [
    {
     "name": "stdout",
     "output_type": "stream",
     "text": [
      "The optimum value after 3 iterations is 7.0\n",
      "The values of x1=0.0 and x2=1.0\n"
     ]
    }
   ],
   "source": [
    "print(f'The optimum value after {f.nit} iterations is {np.round(f.fun,3)}')\n",
    "print(f'The values of x1={f.x[0]} and x2={np.round(f.x[1],5)}')"
   ]
  },
  {
   "cell_type": "markdown",
   "metadata": {},
   "source": [
    "#### Removing constrain 1:"
   ]
  },
  {
   "cell_type": "code",
   "execution_count": 117,
   "metadata": {},
   "outputs": [
    {
     "name": "stdout",
     "output_type": "stream",
     "text": [
      "  NIT    FC           OBJFUN            GNORM\n",
      "    1     3     4.000000E+00     5.960464E-08\n",
      "Optimization terminated successfully    (Exit mode 0)\n",
      "            Current function value: 4.0\n",
      "            Iterations: 1\n",
      "            Function evaluations: 3\n",
      "            Gradient evaluations: 1\n"
     ]
    }
   ],
   "source": [
    "con2= lambda x : x[0]**2+4*x[1]**2-4\n",
    "nlc2=NonlinearConstraint(con2, -np.inf, 0)\n",
    "\n",
    "\n",
    "x0,x1=0,0\n",
    "f2=minimize(OF,\n",
    "           [x0,x1],\n",
    "           constraints=[nlc2],\n",
    "           options={'maxiter': 100, 'ftol': 1e-06, 'iprint': 2,'disp': True})"
   ]
  },
  {
   "cell_type": "code",
   "execution_count": 118,
   "metadata": {},
   "outputs": [
    {
     "data": {
      "text/plain": [
       "array([0., 0.])"
      ]
     },
     "execution_count": 118,
     "metadata": {},
     "output_type": "execute_result"
    }
   ],
   "source": [
    "f2.x # Same as unconstrained solution."
   ]
  },
  {
   "cell_type": "markdown",
   "metadata": {},
   "source": [
    "#### Removing constrain 2:"
   ]
  },
  {
   "cell_type": "code",
   "execution_count": 121,
   "metadata": {},
   "outputs": [
    {
     "name": "stdout",
     "output_type": "stream",
     "text": [
      "  NIT    FC           OBJFUN            GNORM\n",
      "    1     4     7.000000E+00     5.960464E-08\n",
      "    2     8     7.000000E+00     1.000000E+00\n",
      "    3    10     7.000000E+00     6.000000E+00\n",
      "Optimization terminated successfully    (Exit mode 0)\n",
      "            Current function value: 7.000000000000019\n",
      "            Iterations: 3\n",
      "            Function evaluations: 10\n",
      "            Gradient evaluations: 3\n"
     ]
    }
   ],
   "source": [
    "con1= lambda x : x[1]-1\n",
    "nlc1=NonlinearConstraint(con1, 0, np.inf)\n",
    "\n",
    "x0,x1=0,0\n",
    "f3=minimize(OF,\n",
    "           [x0,x1],\n",
    "           constraints=[nlc1],\n",
    "           options={'maxiter': 100, 'ftol': 1e-06, 'iprint': 2,'disp': True})"
   ]
  },
  {
   "cell_type": "code",
   "execution_count": 123,
   "metadata": {},
   "outputs": [
    {
     "data": {
      "text/plain": [
       "array([0., 1.])"
      ]
     },
     "execution_count": 123,
     "metadata": {},
     "output_type": "execute_result"
    }
   ],
   "source": [
    "f3.x # Same optimum as with 2 constrains."
   ]
  }
 ],
 "metadata": {
  "hide_input": false,
  "kernelspec": {
   "display_name": "Python 3",
   "language": "python",
   "name": "python3"
  },
  "language_info": {
   "codemirror_mode": {
    "name": "ipython",
    "version": 3
   },
   "file_extension": ".py",
   "mimetype": "text/x-python",
   "name": "python",
   "nbconvert_exporter": "python",
   "pygments_lexer": "ipython3",
   "version": "3.7.6"
  }
 },
 "nbformat": 4,
 "nbformat_minor": 4
}
